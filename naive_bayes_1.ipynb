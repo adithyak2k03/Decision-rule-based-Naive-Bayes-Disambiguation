{
 "cells": [
  {
   "cell_type": "code",
   "execution_count": 65,
   "id": "156e0536-4988-45fe-bbc3-237409e7b1fa",
   "metadata": {},
   "outputs": [],
   "source": [
    "train_set={'put coat back chair sat down ':'f','chair made timber company ':'f','chair institute best ':'p','award IT chair ':'p','type different chair award fun use ':'f'}\n",
    "test_set={'award chair IT company':'f'}\n",
    "#find probability of each word with that sense\n"
   ]
  },
  {
   "cell_type": "code",
   "execution_count": 66,
   "id": "0a237b33-b15c-472f-b647-bdaa2f58417a",
   "metadata": {},
   "outputs": [],
   "source": [
    "training_set=[]\n",
    "testing_set=[]"
   ]
  },
  {
   "cell_type": "code",
   "execution_count": 67,
   "id": "dedf263c-f46a-455d-91f5-d8936102f3cc",
   "metadata": {},
   "outputs": [],
   "source": [
    "for i,j in test_set.items():\n",
    "    testing_set=[i,j]\n",
    "for i,j in train_set.items():\n",
    "    temp=[i,j]\n",
    "    training_set.append(temp)"
   ]
  },
  {
   "cell_type": "code",
   "execution_count": null,
   "id": "dc0fa831-32cb-481c-a197-ef823c44f5e4",
   "metadata": {},
   "outputs": [],
   "source": []
  },
  {
   "cell_type": "code",
   "execution_count": 68,
   "id": "d454ec76-5ccb-4b4e-bd87-250c5ee103c8",
   "metadata": {},
   "outputs": [
    {
     "name": "stdout",
     "output_type": "stream",
     "text": [
      "['put coat back chair sat down ', 'f']\n",
      "['chair made timber company ', 'f']\n",
      "['chair institute best ', 'p']\n",
      "['award IT chair ', 'p']\n",
      "['type different chair award fun use ', 'f']\n",
      "\n",
      "\n",
      " testing set: \n",
      "\n",
      " ['award chair IT company', 'f']\n"
     ]
    }
   ],
   "source": [
    "for i in training_set:\n",
    "    print(i)\n",
    "    \n",
    "print(\"\\n\\n testing set: \\n\\n\",testing_set)"
   ]
  },
  {
   "cell_type": "code",
   "execution_count": 69,
   "id": "8ea597e4-4297-4c5b-8dd2-05c6c9a2cc69",
   "metadata": {},
   "outputs": [
    {
     "data": {
      "text/plain": [
       "(5, 2, 3)"
      ]
     },
     "execution_count": 69,
     "metadata": {},
     "output_type": "execute_result"
    }
   ],
   "source": [
    "count_f=0\n",
    "count_p=0\n",
    "for i,j in train_set.items():\n",
    "    if j=='f':\n",
    "        count_f=count_f+1\n",
    "    elif j=='p':\n",
    "        count_p=count_p+1\n",
    "        \n",
    "count_tot=count_f+count_p\n",
    "count_tot,count_p,count_f"
   ]
  },
  {
   "cell_type": "code",
   "execution_count": null,
   "id": "4f863a2b-f37e-4ed8-8387-862dd8acb2a3",
   "metadata": {},
   "outputs": [],
   "source": []
  },
  {
   "cell_type": "code",
   "execution_count": null,
   "id": "4dbdf871-96c9-4bd9-bc5b-950f2527fb61",
   "metadata": {},
   "outputs": [],
   "source": []
  },
  {
   "cell_type": "code",
   "execution_count": null,
   "id": "d75a9ba0-b57d-40f1-b70a-b64d564b4efa",
   "metadata": {},
   "outputs": [],
   "source": []
  },
  {
   "cell_type": "code",
   "execution_count": 6,
   "id": "51ec2cdc-1447-4bb8-b7e4-1d1ecc2aa2d2",
   "metadata": {},
   "outputs": [
    {
     "name": "stdout",
     "output_type": "stream",
     "text": [
      "put coat back chair sat down chair made timber company chair institute best award IT chair type different chair award fun use \n"
     ]
    }
   ],
   "source": [
    "all_sentences=''\n",
    "for i in train_set.keys():\n",
    "    all_sentences=all_sentences+i\n",
    "    \n",
    "print(all_sentences)\n",
    "# set(all_sentences)"
   ]
  },
  {
   "cell_type": "code",
   "execution_count": 7,
   "id": "11389fc2-a1b4-4ac3-b680-9b697efbbb60",
   "metadata": {},
   "outputs": [
    {
     "data": {
      "text/plain": [
       "22"
      ]
     },
     "execution_count": 71,
     "metadata": {},
     "output_type": "execute_result"
    }
   ],
   "source": [
    "len(all_sentences.split())"
   ]
  },
  {
   "cell_type": "code",
   "execution_count": 8,
   "id": "a203bad1-1862-46d5-89b2-af3e3a2a0471",
   "metadata": {},
   "outputs": [],
   "source": [
    "v_bar=len(set(all_sentences.split()))-1"
   ]
  },
  {
   "cell_type": "code",
   "execution_count": 98,
   "id": "ca5097ef-03b7-4ca9-b1b7-fef5e37c06cf",
   "metadata": {},
   "outputs": [],
   "source": [
    "for i in test_set.keys():\n",
    "    test=i"
   ]
  },
  {
   "cell_type": "code",
   "execution_count": 10,
   "id": "a1948da3-c954-43cb-92aa-ff80748a845b",
   "metadata": {},
   "outputs": [],
   "source": [
    "test=test.split()"
   ]
  },
  {
   "cell_type": "code",
   "execution_count": null,
   "id": "1e3fa4d1-05d9-4292-b74d-1d66d37521bd",
   "metadata": {},
   "outputs": [],
   "source": []
  },
  {
   "cell_type": "code",
   "execution_count": null,
   "id": "16e08823-10ac-455e-b8cb-12f1c5415a85",
   "metadata": {},
   "outputs": [],
   "source": []
  },
  {
   "cell_type": "code",
   "execution_count": 11,
   "id": "1a156a85-0d4f-4e3e-9f7c-3037b1709066",
   "metadata": {},
   "outputs": [
    {
     "data": {
      "text/plain": [
       "['award', 'chair', 'IT', 'company']"
      ]
     },
     "execution_count": 75,
     "metadata": {},
     "output_type": "execute_result"
    }
   ],
   "source": [
    "test"
   ]
  },
  {
   "cell_type": "code",
   "execution_count": 12,
   "id": "ebfc4270-5f32-42ae-9948-eb4d7511f129",
   "metadata": {},
   "outputs": [],
   "source": [
    "# combined_train[0]"
   ]
  },
  {
   "cell_type": "code",
   "execution_count": 13,
   "id": "e7f1b596-f6d0-4f43-b324-733fef2ce2dc",
   "metadata": {},
   "outputs": [
    {
     "data": {
      "text/plain": [
       "['put coat back chair sat down f',\n",
       " 'chair made timber company f',\n",
       " 'chair institute best p',\n",
       " 'award IT chair p',\n",
       " 'type different chair award fun use f']"
      ]
     },
     "execution_count": 77,
     "metadata": {},
     "output_type": "execute_result"
    }
   ],
   "source": [
    "combined_train=[]\n",
    "for i,j in training_set:\n",
    "    combined_train=combined_train+[i+j]\n",
    "    \n",
    "combined_train"
   ]
  },
  {
   "cell_type": "code",
   "execution_count": null,
   "id": "58fcc0aa-e8e5-43f7-8057-f0263aed4e53",
   "metadata": {},
   "outputs": [],
   "source": []
  },
  {
   "cell_type": "code",
   "execution_count": 14,
   "id": "b253b548-1bf8-46cd-9d58-704882ee4f58",
   "metadata": {},
   "outputs": [
    {
     "data": {
      "text/plain": [
       "[2, 5, 1, 1]"
      ]
     },
     "execution_count": 78,
     "metadata": {},
     "output_type": "execute_result"
    }
   ],
   "source": [
    "count_test=[0,0,0,0]\n",
    "for i in range(len(test)):\n",
    "    for j in range(len(combined_train)):\n",
    "        if test[i] in combined_train[j]:\n",
    "            count_test[i]=count_test[i]+1\n",
    "                                           \n",
    "count_test"
   ]
  },
  {
   "cell_type": "code",
   "execution_count": 15,
   "id": "f18b4c19-155b-453f-8473-b4e84dbb8be7",
   "metadata": {},
   "outputs": [
    {
     "data": {
      "text/plain": [
       "['award', 'chair', 'IT', 'company']"
      ]
     },
     "execution_count": 79,
     "metadata": {},
     "output_type": "execute_result"
    }
   ],
   "source": [
    "test"
   ]
  },
  {
   "cell_type": "code",
   "execution_count": 16,
   "id": "b42f219f-ed4a-42f5-b02b-3ffd763cbe01",
   "metadata": {},
   "outputs": [
    {
     "name": "stdout",
     "output_type": "stream",
     "text": [
      "[1, 3, 0, 1]\n",
      "[1, 2, 1, 0]\n"
     ]
    }
   ],
   "source": [
    "c_word_f=[0,0,0,0]\n",
    "c_word_p=[0,0,0,0]\n",
    "for i in range(len(test)):\n",
    "    for j in range(len(combined_train)):\n",
    "        if test[i] in combined_train[j]:\n",
    "            if combined_train[j][-1]=='f':\n",
    "                c_word_f[i]=c_word_f[i]+1\n",
    "            elif combined_train[j][-1]=='p':\n",
    "                c_word_p[i]=c_word_p[i]+1\n",
    "                \n",
    "print(c_word_f)\n",
    "print(c_word_p)"
   ]
  },
  {
   "cell_type": "code",
   "execution_count": null,
   "id": "3670be9e-7c6f-4dc9-b750-3471fe711458",
   "metadata": {},
   "outputs": [],
   "source": [
    "\n"
   ]
  },
  {
   "cell_type": "code",
   "execution_count": null,
   "id": "cb5c75a4-ebb2-43dc-832b-028f644ca811",
   "metadata": {},
   "outputs": [],
   "source": []
  },
  {
   "cell_type": "code",
   "execution_count": 17,
   "id": "af7bbd38-570c-4abf-b4dc-477f7126070c",
   "metadata": {},
   "outputs": [
    {
     "name": "stdout",
     "output_type": "stream",
     "text": [
      "[0.3333333333333333, 1.0, 0.0, 0.3333333333333333]\n",
      "[0.5, 1.0, 0.5, 0.0]\n"
     ]
    }
   ],
   "source": [
    "prob_word_f=[]\n",
    "prob_word_p=[]\n",
    "for i in range(len(test)):\n",
    "    prob_word_f.append(c_word_f[i]/count_f)\n",
    "    prob_word_p.append(c_word_p[i]/count_p)\n",
    "    \n",
    "print(prob_word_f)\n",
    "print(prob_word_p)"
   ]
  },
  {
   "cell_type": "code",
   "execution_count": 18,
   "id": "21e1aa45-431f-4d63-a702-384e077fdf98",
   "metadata": {},
   "outputs": [
    {
     "name": "stdout",
     "output_type": "stream",
     "text": [
      "0.6\n",
      "0.4\n"
     ]
    }
   ],
   "source": [
    "prob_f=count_f/count_tot\n",
    "prob_p=count_p/count_tot\n",
    "\n",
    "print(prob_f)\n",
    "print(prob_p)"
   ]
  },
  {
   "cell_type": "code",
   "execution_count": 19,
   "id": "e4bb7300-92c1-487f-a4eb-54a6d925d3d0",
   "metadata": {},
   "outputs": [
    {
     "data": {
      "text/plain": [
       "['award', 'chair', 'IT', 'company']"
      ]
     },
     "execution_count": 83,
     "metadata": {},
     "output_type": "execute_result"
    }
   ],
   "source": [
    "test"
   ]
  },
  {
   "cell_type": "code",
   "execution_count": null,
   "id": "99790f13-de5c-4df9-8f9f-83e1f9ce0500",
   "metadata": {},
   "outputs": [],
   "source": []
  },
  {
   "cell_type": "code",
   "execution_count": 20,
   "id": "e63f4a38-2cf5-44b6-8880-3995c5aa8ec3",
   "metadata": {},
   "outputs": [
    {
     "name": "stdout",
     "output_type": "stream",
     "text": [
      "-0.916290731874155\n",
      "-0.5108256237659907\n"
     ]
    }
   ],
   "source": [
    "import math as m\n",
    "score_p=m.log(prob_p)\n",
    "score_f=m.log(prob_f)\n",
    "\n",
    "print(score_p)\n",
    "print(score_f)"
   ]
  },
  {
   "cell_type": "code",
   "execution_count": null,
   "id": "d5921b1c-10c7-4a5e-a3b9-4eb927230998",
   "metadata": {},
   "outputs": [],
   "source": []
  },
  {
   "cell_type": "code",
   "execution_count": 21,
   "id": "bb7c99e7-fa16-4df4-a306-93768af564c2",
   "metadata": {},
   "outputs": [
    {
     "data": {
      "text/plain": [
       "[1, 3, 0, 1]"
      ]
     },
     "execution_count": 85,
     "metadata": {},
     "output_type": "execute_result"
    }
   ],
   "source": [
    "c_word_f"
   ]
  },
  {
   "cell_type": "code",
   "execution_count": 22,
   "id": "57262407-3cb3-4b45-ae1b-3154e9b97630",
   "metadata": {},
   "outputs": [
    {
     "name": "stdout",
     "output_type": "stream",
     "text": [
      "[0.10526315789473684, 0.21052631578947367, 0.05263157894736842, 0.10526315789473684]\n",
      "[0.1111111111111111, 0.16666666666666666, 0.1111111111111111, 0.05555555555555555]\n"
     ]
    }
   ],
   "source": [
    "smoothed_prob_word_f=[]\n",
    "smoothed_prob_word_p=[]\n",
    "\n",
    "\n",
    "for i in range(len(c_word_f)):\n",
    "    smoothed_prob_word_f.append((c_word_f[i]+1)/(count_f+v_bar))\n",
    "    \n",
    "    smoothed_prob_word_p.append((c_word_p[i]+1)/(count_p+v_bar))\n",
    "\n",
    "print(smoothed_prob_word_f)\n",
    "print(smoothed_prob_word_p)"
   ]
  },
  {
   "cell_type": "code",
   "execution_count": 62,
   "id": "9e12ebff-ba0d-45fd-aa6a-3f95c0298dbd",
   "metadata": {},
   "outputs": [
    {
     "data": {
      "text/plain": [
       "['award', 'chair', 'IT', 'company']"
      ]
     },
     "execution_count": 87,
     "metadata": {},
     "output_type": "execute_result"
    }
   ],
   "source": [
    "test=['award', 'chair', 'IT', 'company']\n",
    "# test.pop(1)\n",
    "test"
   ]
  },
  {
   "cell_type": "code",
   "execution_count": 91,
   "id": "32f79089-e5f9-4085-92bc-d8edecd45c1d",
   "metadata": {},
   "outputs": [
    {
     "name": "stdout",
     "output_type": "stream",
     "text": [
      "[-2.2512917986064953, 0, -2.9444389791664407, -2.2512917986064953]\n",
      "[-2.1972245773362196, 0, -2.1972245773362196, -2.890371757896165]\n"
     ]
    }
   ],
   "source": [
    "logged_smoothed_prob_word_f=[]\n",
    "logged_smoothed_prob_word_p=[]\n",
    "\n",
    "# smoothed_prob_word_f[1]=0\n",
    "# smoothed_prob_word_p[1]=0\n",
    "\n",
    "for i in range(len(test)):\n",
    "    \n",
    "    logged_smoothed_prob_word_f.append(m.log(smoothed_prob_word_f[i]))\n",
    "    \n",
    "    logged_smoothed_prob_word_p.append(m.log(smoothed_prob_word_p[i]))\n",
    "    \n",
    "logged_smoothed_prob_word_f[1]=0          #becuz the word \"chair\" is the ambiguous word\n",
    "logged_smoothed_prob_word_p[1]=0          #becuz the word \"chair\" is the ambiguous word\n",
    "    \n",
    "print(logged_smoothed_prob_word_f)\n",
    "print(logged_smoothed_prob_word_p)"
   ]
  },
  {
   "cell_type": "code",
   "execution_count": 92,
   "id": "b5127262-8426-481f-91d4-d6e6504d767a",
   "metadata": {},
   "outputs": [
    {
     "name": "stdout",
     "output_type": "stream",
     "text": [
      "-7.447022576379432\n",
      "-7.284820912568604\n"
     ]
    }
   ],
   "source": [
    "print(sum(logged_smoothed_prob_word_f))\n",
    "print(sum(logged_smoothed_prob_word_p))"
   ]
  },
  {
   "cell_type": "code",
   "execution_count": 93,
   "id": "cc6b76d5-2b2b-48a9-83ae-1ab0362f1545",
   "metadata": {},
   "outputs": [
    {
     "data": {
      "text/plain": [
       "([-2.2512917986064953, 0, -2.9444389791664407, -2.2512917986064953],\n",
       " [-2.1972245773362196, 0, -2.1972245773362196, -2.890371757896165])"
      ]
     },
     "execution_count": 93,
     "metadata": {},
     "output_type": "execute_result"
    }
   ],
   "source": [
    "logged_smoothed_prob_word_f,logged_smoothed_prob_word_p"
   ]
  },
  {
   "cell_type": "code",
   "execution_count": null,
   "id": "9b57ea4b-b77b-480e-ade9-257fce76e668",
   "metadata": {},
   "outputs": [],
   "source": []
  },
  {
   "cell_type": "code",
   "execution_count": null,
   "id": "c19506e9-47fb-4a48-a148-ea28ec8685cc",
   "metadata": {},
   "outputs": [],
   "source": []
  },
  {
   "cell_type": "code",
   "execution_count": 96,
   "id": "cdab0647-3108-4def-8ccf-ca31974484c4",
   "metadata": {},
   "outputs": [],
   "source": [
    "final_score_f=score_f+sum(logged_smoothed_prob_word_f)\n",
    "\n",
    "final_score_p=score_p+sum(logged_smoothed_prob_word_p)"
   ]
  },
  {
   "cell_type": "code",
   "execution_count": 97,
   "id": "4d30dfb8-318d-476c-8c58-95a8d87c29f1",
   "metadata": {},
   "outputs": [
    {
     "data": {
      "text/plain": [
       "(-7.957848200145422, -8.201111644442758)"
      ]
     },
     "execution_count": 97,
     "metadata": {},
     "output_type": "execute_result"
    }
   ],
   "source": [
    "final_score_f,final_score_p\n"
   ]
  },
  {
   "cell_type": "code",
   "execution_count": null,
   "id": "bacadc4d-68ca-4863-939d-c37cff6fb933",
   "metadata": {},
   "outputs": [],
   "source": []
  }
 ],
 "metadata": {
  "kernelspec": {
   "display_name": "Python 3 (ipykernel)",
   "language": "python",
   "name": "python3"
  },
  "language_info": {
   "codemirror_mode": {
    "name": "ipython",
    "version": 3
   },
   "file_extension": ".py",
   "mimetype": "text/x-python",
   "name": "python",
   "nbconvert_exporter": "python",
   "pygments_lexer": "ipython3",
   "version": "3.9.5"
  }
 },
 "nbformat": 4,
 "nbformat_minor": 5
}
